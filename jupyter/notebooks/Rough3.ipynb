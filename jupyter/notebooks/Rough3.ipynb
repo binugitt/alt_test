{
 "cells": [
  {
   "cell_type": "code",
   "execution_count": 1,
   "id": "2ada21b0",
   "metadata": {},
   "outputs": [],
   "source": [
    "import pandas as pd\n",
    "import zerorpc"
   ]
  },
  {
   "cell_type": "code",
   "execution_count": 2,
   "id": "30329143",
   "metadata": {},
   "outputs": [
    {
     "data": {
      "text/plain": [
       "[<SocketContext(connect='tcp://127.0.0.1:1234')>]"
      ]
     },
     "execution_count": 2,
     "metadata": {},
     "output_type": "execute_result"
    }
   ],
   "source": [
    "client = zerorpc.Client()\n",
    "client.connect(\"tcp://127.0.0.1:1234\")"
   ]
  },
  {
   "cell_type": "code",
   "execution_count": 3,
   "id": "2a612d7b",
   "metadata": {},
   "outputs": [
    {
     "name": "stdout",
     "output_type": "stream",
     "text": [
      "{'timestamp': '06-06-2022, 03:01:08', 'symbol': 'BTCUSDT', 'ecn': 'BINANCE', 'ecn_symbol': 'BTCUSDT', 'bids': [['30948.39000000', '0.00150000'], ['30948.38000000', '0.03980000'], ['30948.37000000', '0.74034000'], ['30948.33000000', '0.01771000'], ['30948.20000000', '0.00216000']], 'asks': [['30948.40000000', '3.67937000'], ['30948.41000000', '0.61061000'], ['30948.43000000', '0.76097000'], ['30948.88000000', '0.38700000'], ['30949.37000000', '0.00225000']]}\n"
     ]
    }
   ],
   "source": [
    "normalised_ob = client.get_order_book(0, 0)\n",
    "print(normalised_ob)"
   ]
  },
  {
   "cell_type": "code",
   "execution_count": 4,
   "id": "ad0b6eb6",
   "metadata": {},
   "outputs": [
    {
     "name": "stdout",
     "output_type": "stream",
     "text": [
      "Hello\n",
      "[{'time': 1651363200000, 'open': '37630.80000000', 'high': '37806.79000000', 'low': '37500.00000000', 'close': '37680.67000000', 'volume': '2313.83572000'}, {'time': 1651366800000, 'open': '37680.66000000', 'high': '38077.10000000', 'low': '37386.38000000', 'close': '37937.07000000', 'volume': '2622.65157000'}, {'time': 1651370400000, 'open': '37937.07000000', 'high': '38053.68000000', 'low': '37771.81000000', 'close': '37817.79000000', 'volume': '1081.24561000'}, {'time': 1651374000000, 'open': '37817.78000000', 'high': '38064.39000000', 'low': '37801.52000000', 'close': '38041.44000000', 'volume': '966.53850000'}, {'time': 1651377600000, 'open': '38041.44000000', 'high': '38063.41000000', 'low': '37885.30000000', 'close': '37948.39000000', 'volume': '1405.77554000'}, {'time': 1651381200000, 'open': '37948.39000000', 'high': '38165.12000000', 'low': '37899.21000000', 'close': '38060.05000000', 'volume': '2186.40640000'}, {'time': 1651384800000, 'open': '38060.06000000', 'high': '38149.92000000', 'low': '37950.00000000', 'close': '37952.66000000', 'volume': '1033.82880000'}, {'time': 1651388400000, 'open': '37952.67000000', 'high': '37999.00000000', 'low': '37897.20000000', 'close': '37970.27000000', 'volume': '1379.16792000'}, {'time': 1651392000000, 'open': '37970.27000000', 'high': '38058.46000000', 'low': '37924.13000000', 'close': '38031.51000000', 'volume': '805.63863000'}, {'time': 1651395600000, 'open': '38031.51000000', 'high': '38056.59000000', 'low': '37866.62000000', 'close': '37974.54000000', 'volume': '764.61621000'}, {'time': 1651399200000, 'open': '37974.55000000', 'high': '38094.16000000', 'low': '37951.64000000', 'close': '38026.25000000', 'volume': '808.54641000'}, {'time': 1651402800000, 'open': '38026.24000000', 'high': '38057.97000000', 'low': '37903.70000000', 'close': '37942.78000000', 'volume': '858.40103000'}, {'time': 1651406400000, 'open': '37942.78000000', 'high': '38030.00000000', 'low': '37841.90000000', 'close': '37969.99000000', 'volume': '1049.30301000'}, {'time': 1651410000000, 'open': '37969.99000000', 'high': '38026.85000000', 'low': '37915.49000000', 'close': '37922.85000000', 'volume': '620.23453000'}, {'time': 1651413600000, 'open': '37922.84000000', 'high': '38022.65000000', 'low': '37891.90000000', 'close': '37991.17000000', 'volume': '1110.63058000'}, {'time': 1651417200000, 'open': '37991.17000000', 'high': '38641.46000000', 'low': '37981.14000000', 'close': '38490.00000000', 'volume': '3629.17873000'}, {'time': 1651420800000, 'open': '38490.01000000', 'high': '38675.00000000', 'low': '38390.79000000', 'close': '38504.49000000', 'volume': '2185.17012000'}, {'time': 1651424400000, 'open': '38504.49000000', 'high': '38595.00000000', 'low': '38370.00000000', 'close': '38382.47000000', 'volume': '1289.11080000'}, {'time': 1651428000000, 'open': '38382.47000000', 'high': '38417.48000000', 'low': '37913.15000000', 'close': '37934.91000000', 'volume': '2445.37601000'}, {'time': 1651431600000, 'open': '37934.90000000', 'high': '38009.73000000', 'low': '37750.00000000', 'close': '37807.87000000', 'volume': '2107.59599000'}, {'time': 1651435200000, 'open': '37807.87000000', 'high': '38349.98000000', 'low': '37686.26000000', 'close': '38313.23000000', 'volume': '1694.68393000'}, {'time': 1651438800000, 'open': '38313.23000000', 'high': '38439.76000000', 'low': '38083.07000000', 'close': '38342.63000000', 'volume': '1581.42898000'}, {'time': 1651442400000, 'open': '38342.63000000', 'high': '38574.50000000', 'low': '38089.84000000', 'close': '38306.63000000', 'volume': '2649.14143000'}, {'time': 1651446000000, 'open': '38306.63000000', 'high': '38630.00000000', 'low': '38241.37000000', 'close': '38468.35000000', 'volume': '2223.73459000'}, {'time': 1651449600000, 'open': '38468.35000000', 'high': '38810.73000000', 'low': '38448.84000000', 'close': '38672.88000000', 'volume': '2460.83144000'}, {'time': 1651453200000, 'open': '38672.88000000', 'high': '38739.49000000', 'low': '38487.91000000', 'close': '38493.58000000', 'volume': '1149.05327000'}, {'time': 1651456800000, 'open': '38493.57000000', 'high': '38654.54000000', 'low': '38376.38000000', 'close': '38621.62000000', 'volume': '1369.64886000'}, {'time': 1651460400000, 'open': '38621.62000000', 'high': '38723.06000000', 'low': '38621.62000000', 'close': '38674.10000000', 'volume': '1052.89223000'}, {'time': 1651464000000, 'open': '38674.11000000', 'high': '39122.77000000', 'low': '38600.03000000', 'close': '38975.11000000', 'volume': '2117.50358000'}, {'time': 1651467600000, 'open': '38975.11000000', 'high': '39037.50000000', 'low': '38881.19000000', 'close': '39008.71000000', 'volume': '1589.33152000'}, {'time': 1651471200000, 'open': '39008.71000000', 'high': '39167.34000000', 'low': '38923.56000000', 'close': '38926.11000000', 'volume': '1441.76394000'}, {'time': 1651474800000, 'open': '38926.11000000', 'high': '39041.81000000', 'low': '38826.70000000', 'close': '38881.47000000', 'volume': '1379.24850000'}, {'time': 1651478400000, 'open': '38881.46000000', 'high': '38996.84000000', 'low': '38782.29000000', 'close': '38922.16000000', 'volume': '1765.85866000'}, {'time': 1651482000000, 'open': '38922.16000000', 'high': '39075.00000000', 'low': '38772.81000000', 'close': '38780.01000000', 'volume': '1243.43260000'}, {'time': 1651485600000, 'open': '38780.00000000', 'high': '38866.04000000', 'low': '38653.77000000', 'close': '38711.88000000', 'volume': '1331.67926000'}, {'time': 1651489200000, 'open': '38711.87000000', 'high': '38762.76000000', 'low': '38482.41000000', 'close': '38528.77000000', 'volume': '1858.15894000'}, {'time': 1651492800000, 'open': '38528.78000000', 'high': '38705.00000000', 'low': '38422.92000000', 'close': '38500.41000000', 'volume': '1530.24970000'}, {'time': 1651496400000, 'open': '38500.42000000', 'high': '39155.47000000', 'low': '38242.51000000', 'close': '38910.00000000', 'volume': '7532.50985000'}, {'time': 1651500000000, 'open': '38916.27000000', 'high': '39104.02000000', 'low': '38606.21000000', 'close': '38840.00000000', 'volume': '6534.61749000'}, {'time': 1651503600000, 'open': '38840.00000000', 'high': '38901.37000000', 'low': '38605.71000000', 'close': '38696.05000000', 'volume': '2520.98223000'}, {'time': 1651507200000, 'open': '38696.05000000', 'high': '38868.88000000', 'low': '38519.56000000', 'close': '38551.00000000', 'volume': '2409.60287000'}, {'time': 1651510800000, 'open': '38550.99000000', 'high': '38610.16000000', 'low': '38193.66000000', 'close': '38370.56000000', 'volume': '2585.95603000'}, {'time': 1651514400000, 'open': '38370.56000000', 'high': '38454.31000000', 'low': '38052.00000000', 'close': '38209.49000000', 'volume': '3182.97637000'}, {'time': 1651518000000, 'open': '38209.50000000', 'high': '38584.63000000', 'low': '38152.81000000', 'close': '38563.38000000', 'volume': '2996.22114000'}, {'time': 1651521600000, 'open': '38563.39000000', 'high': '38614.81000000', 'low': '38305.06000000', 'close': '38316.36000000', 'volume': '1096.86055000'}, {'time': 1651525200000, 'open': '38316.36000000', 'high': '38770.00000000', 'low': '38280.76000000', 'close': '38639.67000000', 'volume': '1315.62981000'}, {'time': 1651528800000, 'open': '38639.67000000', 'high': '38908.56000000', 'low': '38572.32000000', 'close': '38591.04000000', 'volume': '1390.19759000'}, {'time': 1651532400000, 'open': '38591.03000000', 'high': '38747.46000000', 'low': '38458.90000000', 'close': '38525.16000000', 'volume': '1345.71985000'}, {'time': 1651536000000, 'open': '38525.16000000', 'high': '38573.82000000', 'low': '38384.60000000', 'close': '38410.01000000', 'volume': '1405.58114000'}, {'time': 1651539600000, 'open': '38410.00000000', 'high': '38518.12000000', 'low': '38358.00000000', 'close': '38518.03000000', 'volume': '1089.59244000'}, {'time': 1651543200000, 'open': '38518.04000000', 'high': '38609.27000000', 'low': '38317.06000000', 'close': '38404.99000000', 'volume': '1351.53465000'}, {'time': 1651546800000, 'open': '38404.99000000', 'high': '38625.00000000', 'low': '38396.06000000', 'close': '38521.64000000', 'volume': '1195.63997000'}, {'time': 1651550400000, 'open': '38521.63000000', 'high': '38561.10000000', 'low': '38450.00000000', 'close': '38501.06000000', 'volume': '867.48442000'}, {'time': 1651554000000, 'open': '38501.06000000', 'high': '38544.39000000', 'low': '38385.67000000', 'close': '38526.52000000', 'volume': '969.37978000'}, {'time': 1651557600000, 'open': '38526.53000000', 'high': '38579.77000000', 'low': '38443.66000000', 'close': '38470.79000000', 'volume': '974.56399000'}, {'time': 1651561200000, 'open': '38470.80000000', 'high': '38569.62000000', 'low': '38420.53000000', 'close': '38559.99000000', 'volume': '1197.62370000'}, {'time': 1651564800000, 'open': '38559.99000000', 'high': '38651.51000000', 'low': '38530.00000000', 'close': '38530.01000000', 'volume': '1080.30246000'}, {'time': 1651568400000, 'open': '38530.00000000', 'high': '38568.69000000', 'low': '38440.42000000', 'close': '38454.54000000', 'volume': '1022.77054000'}, {'time': 1651572000000, 'open': '38454.55000000', 'high': '38475.03000000', 'low': '38363.63000000', 'close': '38421.33000000', 'volume': '1013.45453000'}, {'time': 1651575600000, 'open': '38421.33000000', 'high': '38570.01000000', 'low': '38261.16000000', 'close': '38570.01000000', 'volume': '2169.77953000'}, {'time': 1651579200000, 'open': '38570.01000000', 'high': '38607.09000000', 'low': '38416.81000000', 'close': '38446.62000000', 'volume': '1222.31276000'}, {'time': 1651582800000, 'open': '38446.63000000', 'high': '38475.00000000', 'low': '38152.00000000', 'close': '38364.82000000', 'volume': '3346.89297000'}, {'time': 1651586400000, 'open': '38364.82000000', 'high': '38480.02000000', 'low': '38173.16000000', 'close': '38278.70000000', 'volume': '2524.66193000'}, {'time': 1651590000000, 'open': '38278.69000000', 'high': '38420.00000000', 'low': '38214.38000000', 'close': '38326.36000000', 'volume': '1739.08407000'}, {'time': 1651593600000, 'open': '38326.37000000', 'high': '38396.05000000', 'low': '38050.00000000', 'close': '38149.23000000', 'volume': '2461.67997000'}, {'time': 1651597200000, 'open': '38149.24000000', 'high': '38315.00000000', 'low': '38052.00000000', 'close': '38052.01000000', 'volume': '1633.08513000'}, {'time': 1651600800000, 'open': '38052.00000000', 'high': '38052.01000000', 'low': '37570.50000000', 'close': '37763.78000000', 'volume': '5697.76699000'}, {'time': 1651604400000, 'open': '37763.79000000', 'high': '37786.32000000', 'low': '37517.80000000', 'close': '37717.49000000', 'volume': '2597.52270000'}, {'time': 1651608000000, 'open': '37717.50000000', 'high': '37879.99000000', 'low': '37530.01000000', 'close': '37785.80000000', 'volume': '1420.97968000'}, {'time': 1651611600000, 'open': '37785.79000000', 'high': '38036.46000000', 'low': '37625.93000000', 'close': '37795.58000000', 'volume': '1446.66315000'}, {'time': 1651615200000, 'open': '37795.59000000', 'high': '37880.00000000', 'low': '37730.00000000', 'close': '37739.69000000', 'volume': '952.00281000'}, {'time': 1651618800000, 'open': '37739.68000000', 'high': '37763.68000000', 'low': '37632.54000000', 'close': '37728.95000000', 'volume': '936.09427000'}, {'time': 1651622400000, 'open': '37728.95000000', 'high': '37943.66000000', 'low': '37670.00000000', 'close': '37902.06000000', 'volume': '1198.37701000'}, {'time': 1651626000000, 'open': '37902.06000000', 'high': '37995.06000000', 'low': '37872.83000000', 'close': '37888.01000000', 'volume': '905.29317000'}, {'time': 1651629600000, 'open': '37888.02000000', 'high': '38050.00000000', 'low': '37882.37000000', 'close': '37962.62000000', 'volume': '895.27606000'}, {'time': 1651633200000, 'open': '37962.62000000', 'high': '38100.00000000', 'low': '37961.83000000', 'close': '38013.62000000', 'volume': '1034.66280000'}, {'time': 1651636800000, 'open': '38013.62000000', 'high': '38094.07000000', 'low': '37944.25000000', 'close': '37998.69000000', 'volume': '718.07780000'}, {'time': 1651640400000, 'open': '37998.70000000', 'high': '38136.00000000', 'low': '37970.00000000', 'close': '38091.40000000', 'volume': '1087.92617000'}, {'time': 1651644000000, 'open': '38091.40000000', 'high': '38436.74000000', 'low': '38082.85000000', 'close': '38409.20000000', 'volume': '2539.42064000'}, {'time': 1651647600000, 'open': '38409.20000000', 'high': '38757.27000000', 'low': '38303.90000000', 'close': '38701.32000000', 'volume': '5129.01115000'}, {'time': 1651651200000, 'open': '38701.32000000', 'high': '39100.00000000', 'low': '38670.00000000', 'close': '38968.53000000', 'volume': '4011.26324000'}, {'time': 1651654800000, 'open': '38968.53000000', 'high': '39088.00000000', 'low': '38813.45000000', 'close': '38884.13000000', 'volume': '2967.08993000'}, {'time': 1651658400000, 'open': '38884.13000000', 'high': '39066.44000000', 'low': '38850.37000000', 'close': '38995.84000000', 'volume': '1834.68713000'}, {'time': 1651662000000, 'open': '38995.84000000', 'high': '39047.96000000', 'low': '38867.29000000', 'close': '39002.30000000', 'volume': '1472.57657000'}, {'time': 1651665600000, 'open': '39002.31000000', 'high': '39182.00000000', 'low': '38860.31000000', 'close': '38964.28000000', 'volume': '2641.97440000'}, {'time': 1651669200000, 'open': '38964.29000000', 'high': '39097.01000000', 'low': '38691.50000000', 'close': '38712.06000000', 'volume': '2375.76976000'}, {'time': 1651672800000, 'open': '38712.05000000', 'high': '38876.34000000', 'low': '38658.96000000', 'close': '38786.21000000', 'volume': '2464.99890000'}, {'time': 1651676400000, 'open': '38786.22000000', 'high': '39091.13000000', 'low': '38718.53000000', 'close': '38973.20000000', 'volume': '2243.92571000'}, {'time': 1651680000000, 'open': '38973.20000000', 'high': '39475.00000000', 'low': '38868.15000000', 'close': '39189.99000000', 'volume': '3675.07925000'}, {'time': 1651683600000, 'open': '39189.99000000', 'high': '39249.99000000', 'low': '38811.28000000', 'close': '38985.30000000', 'volume': '2995.38887000'}, {'time': 1651687200000, 'open': '38985.31000000', 'high': '39800.00000000', 'low': '38590.97000000', 'close': '39617.08000000', 'volume': '12007.23476000'}, {'time': 1651690800000, 'open': '39617.08000000', 'high': '40023.77000000', 'low': '39534.68000000', 'close': '39859.22000000', 'volume': '5118.12031000'}, {'time': 1651694400000, 'open': '39859.23000000', 'high': '39942.35000000', 'low': '39753.98000000', 'close': '39811.15000000', 'volume': '1576.92621000'}, {'time': 1651698000000, 'open': '39811.16000000', 'high': '39891.12000000', 'low': '39714.10000000', 'close': '39741.08000000', 'volume': '967.44747000'}, {'time': 1651701600000, 'open': '39741.08000000', 'high': '39774.60000000', 'low': '39678.00000000', 'close': '39681.81000000', 'volume': '1123.51725000'}, {'time': 1651705200000, 'open': '39681.80000000', 'high': '39735.28000000', 'low': '39614.54000000', 'close': '39690.00000000', 'volume': '1590.57280000'}, {'time': 1651708800000, 'open': '39690.00000000', 'high': '39743.47000000', 'low': '39536.66000000', 'close': '39661.34000000', 'volume': '1779.74058000'}, {'time': 1651712400000, 'open': '39661.35000000', 'high': '39708.96000000', 'low': '39600.00000000', 'close': '39629.70000000', 'volume': '1173.62234000'}, {'time': 1651716000000, 'open': '39629.71000000', 'high': '39798.09000000', 'low': '39554.46000000', 'close': '39773.33000000', 'volume': '1487.13236000'}, {'time': 1651719600000, 'open': '39773.32000000', 'high': '39773.33000000', 'low': '39673.01000000', 'close': '39729.41000000', 'volume': '993.42354000'}, {'time': 1651723200000, 'open': '39729.40000000', 'high': '39764.70000000', 'low': '39678.97000000', 'close': '39752.93000000', 'volume': '667.46685000'}, {'time': 1651726800000, 'open': '39752.93000000', 'high': '39845.51000000', 'low': '39568.43000000', 'close': '39602.65000000', 'volume': '1260.55890000'}, {'time': 1651730400000, 'open': '39602.65000000', 'high': '39689.93000000', 'low': '39534.02000000', 'close': '39549.28000000', 'volume': '1018.68906000'}, {'time': 1651734000000, 'open': '39549.28000000', 'high': '39619.94000000', 'low': '39516.92000000', 'close': '39588.84000000', 'volume': '1028.20748000'}, {'time': 1651737600000, 'open': '39588.85000000', 'high': '39629.85000000', 'low': '39444.01000000', 'close': '39482.98000000', 'volume': '1185.50920000'}, {'time': 1651741200000, 'open': '39482.98000000', 'high': '39560.00000000', 'low': '39407.17000000', 'close': '39485.25000000', 'volume': '982.55894000'}, {'time': 1651744800000, 'open': '39485.25000000', 'high': '39619.37000000', 'low': '39456.02000000', 'close': '39513.66000000', 'volume': '1313.98027000'}, {'time': 1651748400000, 'open': '39513.67000000', 'high': '39576.00000000', 'low': '39451.42000000', 'close': '39492.83000000', 'volume': '1024.50753000'}, {'time': 1651752000000, 'open': '39492.84000000', 'high': '39545.66000000', 'low': '39455.34000000', 'close': '39503.95000000', 'volume': '1256.24239000'}, {'time': 1651755600000, 'open': '39503.96000000', 'high': '39503.96000000', 'low': '38960.53000000', 'close': '38992.54000000', 'volume': '4140.28447000'}, {'time': 1651759200000, 'open': '38992.53000000', 'high': '39053.69000000', 'low': '38090.29000000', 'close': '38209.00000000', 'volume': '9350.98056000'}, {'time': 1651762800000, 'open': '38209.01000000', 'high': '38220.88000000', 'low': '36514.29000000', 'close': '36909.67000000', 'volume': '20886.39771000'}, {'time': 1651766400000, 'open': '36909.67000000', 'high': '37322.00000000', 'low': '36784.87000000', 'close': '37036.55000000', 'volume': '8019.20947000'}, {'time': 1651770000000, 'open': '37036.55000000', 'high': '37162.48000000', 'low': '36770.05000000', 'close': '36816.56000000', 'volume': '4067.64270000'}, {'time': 1651773600000, 'open': '36816.55000000', 'high': '36852.65000000', 'low': '36001.00000000', 'close': '36387.03000000', 'volume': '8490.56166000'}, {'time': 1651777200000, 'open': '36386.83000000', 'high': '36390.00000000', 'low': '35571.90000000', 'close': '36316.00000000', 'volume': '10383.49886000'}, {'time': 1651780800000, 'open': '36316.01000000', 'high': '36477.71000000', 'low': '36132.85000000', 'close': '36466.44000000', 'volume': '3130.20550000'}, {'time': 1651784400000, 'open': '36466.44000000', 'high': '36600.00000000', 'low': '36328.80000000', 'close': '36458.58000000', 'volume': '1797.64214000'}, {'time': 1651788000000, 'open': '36458.58000000', 'high': '36495.00000000', 'low': '36211.89000000', 'close': '36238.63000000', 'volume': '1455.11242000'}, {'time': 1651791600000, 'open': '36238.62000000', 'high': '36600.00000000', 'low': '36238.62000000', 'close': '36552.97000000', 'volume': '1829.25862000'}, {'time': 1651795200000, 'open': '36552.97000000', 'high': '36675.63000000', 'low': '36290.00000000', 'close': '36373.41000000', 'volume': '1902.46840000'}, {'time': 1651798800000, 'open': '36373.42000000', 'high': '36406.33000000', 'low': '36163.44000000', 'close': '36311.56000000', 'volume': '1571.87355000'}, {'time': 1651802400000, 'open': '36311.57000000', 'high': '36553.33000000', 'low': '36311.56000000', 'close': '36433.40000000', 'volume': '1891.82188000'}, {'time': 1651806000000, 'open': '36433.41000000', 'high': '36474.60000000', 'low': '36360.31000000', 'close': '36461.82000000', 'volume': '1038.05498000'}, {'time': 1651809600000, 'open': '36461.81000000', 'high': '36472.91000000', 'low': '36287.46000000', 'close': '36435.42000000', 'volume': '1090.06777000'}, {'time': 1651813200000, 'open': '36435.43000000', 'high': '36509.69000000', 'low': '36381.56000000', 'close': '36501.45000000', 'volume': '1246.57820000'}, {'time': 1651816800000, 'open': '36501.46000000', 'high': '36550.00000000', 'low': '36393.12000000', 'close': '36409.12000000', 'volume': '994.10719000'}, {'time': 1651820400000, 'open': '36409.12000000', 'high': '36448.00000000', 'low': '35833.01000000', 'close': '36371.94000000', 'volume': '6194.23548000'}, {'time': 1651824000000, 'open': '36371.94000000', 'high': '36514.63000000', 'low': '36163.92000000', 'close': '36218.08000000', 'volume': '2431.69974000'}, {'time': 1651827600000, 'open': '36218.07000000', 'high': '36432.16000000', 'low': '36169.39000000', 'close': '36406.54000000', 'volume': '1315.44494000'}, {'time': 1651831200000, 'open': '36406.54000000', 'high': '36426.52000000', 'low': '35793.81000000', 'close': '35944.81000000', 'volume': '2433.55990000'}, {'time': 1651834800000, 'open': '35944.82000000', 'high': '36128.31000000', 'low': '35587.10000000', 'close': '35780.84000000', 'volume': '4030.87270000'}, {'time': 1651838400000, 'open': '35780.83000000', 'high': '36339.26000000', 'low': '35688.60000000', 'close': '35826.22000000', 'volume': '5544.11513000'}, {'time': 1651842000000, 'open': '35826.22000000', 'high': '36063.72000000', 'low': '35258.00000000', 'close': '35747.51000000', 'volume': '9334.99281000'}, {'time': 1651845600000, 'open': '35747.51000000', 'high': '36246.49000000', 'low': '35637.21000000', 'close': '36140.18000000', 'volume': '9080.25783000'}, {'time': 1651849200000, 'open': '36140.17000000', 'high': '36436.20000000', 'low': '35950.00000000', 'close': '36004.34000000', 'volume': '4301.90684000'}, {'time': 1651852800000, 'open': '36004.33000000', 'high': '36235.29000000', 'low': '35928.48000000', 'close': '36218.01000000', 'volume': '3508.87788000'}, {'time': 1651856400000, 'open': '36218.02000000', 'high': '36239.40000000', 'low': '35848.13000000', 'close': '35896.43000000', 'volume': '2674.86580000'}, {'time': 1651860000000, 'open': '35896.42000000', 'high': '36100.00000000', 'low': '35834.03000000', 'close': '35940.01000000', 'volume': '2014.33399000'}, {'time': 1651863600000, 'open': '35940.00000000', 'high': '36151.79000000', 'low': '35841.63000000', 'close': '36001.35000000', 'volume': '2695.40864000'}, {'time': 1651867200000, 'open': '36001.34000000', 'high': '36113.89000000', 'low': '35863.59000000', 'close': '36082.53000000', 'volume': '873.96055000'}, {'time': 1651870800000, 'open': '36082.53000000', 'high': '36102.40000000', 'low': '35894.91000000', 'close': '35959.47000000', 'volume': '644.42578000'}, {'time': 1651874400000, 'open': '35959.47000000', 'high': '36072.57000000', 'low': '35881.55000000', 'close': '35999.24000000', 'volume': '940.44475000'}, {'time': 1651878000000, 'open': '35999.23000000', 'high': '36116.81000000', 'low': '35999.23000000', 'close': '36013.77000000', 'volume': '683.42714000'}, {'time': 1651881600000, 'open': '36013.77000000', 'high': '36077.98000000', 'low': '35945.00000000', 'close': '35995.93000000', 'volume': '848.16112000'}, {'time': 1651885200000, 'open': '35995.94000000', 'high': '36045.21000000', 'low': '35918.67000000', 'close': '36017.05000000', 'volume': '763.45220000'}, {'time': 1651888800000, 'open': '36017.06000000', 'high': '36030.00000000', 'low': '35936.28000000', 'close': '35953.64000000', 'volume': '691.28860000'}, {'time': 1651892400000, 'open': '35953.63000000', 'high': '35959.99000000', 'low': '35760.00000000', 'close': '35812.21000000', 'volume': '950.37032000'}, {'time': 1651896000000, 'open': '35812.22000000', 'high': '35882.67000000', 'low': '35725.72000000', 'close': '35746.63000000', 'volume': '1038.35464000'}, {'time': 1651899600000, 'open': '35746.62000000', 'high': '35900.00000000', 'low': '35722.24000000', 'close': '35898.95000000', 'volume': '897.23593000'}, {'time': 1651903200000, 'open': '35898.96000000', 'high': '35909.75000000', 'low': '35790.02000000', 'close': '35806.27000000', 'volume': '890.85528000'}, {'time': 1651906800000, 'open': '35806.28000000', 'high': '35961.05000000', 'low': '35800.00000000', 'close': '35921.60000000', 'volume': '1485.78602000'}, {'time': 1651910400000, 'open': '35921.60000000', 'high': '36069.01000000', 'low': '35879.96000000', 'close': '36015.01000000', 'volume': '1371.14032000'}, {'time': 1651914000000, 'open': '36015.00000000', 'high': '36060.83000000', 'low': '35965.14000000', 'close': '35986.05000000', 'volume': '836.27782000'}, {'time': 1651917600000, 'open': '35986.04000000', 'high': '36144.00000000', 'low': '35955.17000000', 'close': '36087.43000000', 'volume': '1178.46370000'}, {'time': 1651921200000, 'open': '36087.44000000', 'high': '36146.30000000', 'low': '35999.99000000', 'close': '36055.86000000', 'volume': '1003.23062000'}, {'time': 1651924800000, 'open': '36055.86000000', 'high': '36055.86000000', 'low': '35970.09000000', 'close': '36033.40000000', 'volume': '967.04985000'}, {'time': 1651928400000, 'open': '36033.40000000', 'high': '36049.42000000', 'low': '35866.00000000', 'close': '35900.74000000', 'volume': '1503.22605000'}, {'time': 1651932000000, 'open': '35900.73000000', 'high': '35995.99000000', 'low': '35882.10000000', 'close': '35962.96000000', 'volume': '711.79511000'}, {'time': 1651935600000, 'open': '35962.96000000', 'high': '36085.50000000', 'low': '35946.19000000', 'close': '35962.47000000', 'volume': '728.02159000'}, {'time': 1651939200000, 'open': '35962.47000000', 'high': '35979.42000000', 'low': '35885.01000000', 'close': '35965.83000000', 'volume': '607.53671000'}, {'time': 1651942800000, 'open': '35965.83000000', 'high': '35965.84000000', 'low': '35865.89000000', 'close': '35886.31000000', 'volume': '574.35299000'}, {'time': 1651946400000, 'open': '35886.31000000', 'high': '35997.14000000', 'low': '35869.79000000', 'close': '35896.35000000', 'volume': '636.48154000'}, {'time': 1651950000000, 'open': '35896.35000000', 'high': '35925.62000000', 'low': '35852.06000000', 'close': '35876.36000000', 'volume': '569.30680000'}, {'time': 1651953600000, 'open': '35876.37000000', 'high': '35876.37000000', 'low': '35752.35000000', 'close': '35785.69000000', 'volume': '1780.79166000'}, {'time': 1651957200000, 'open': '35785.69000000', 'high': '35820.91000000', 'low': '35000.00000000', 'close': '35026.37000000', 'volume': '4828.39846000'}, {'time': 1651960800000, 'open': '35026.37000000', 'high': '35328.47000000', 'low': '34785.00000000', 'close': '35046.06000000', 'volume': '5308.12687000'}, {'time': 1651964400000, 'open': '35046.07000000', 'high': '35769.69000000', 'low': '35015.53000000', 'close': '35472.39000000', 'volume': '4112.00262000'}, {'time': 1651968000000, 'open': '35472.40000000', 'high': '35514.22000000', 'low': '35071.97000000', 'close': '35107.02000000', 'volume': '2609.76893000'}]\n"
     ]
    }
   ],
   "source": [
    "from datetime import datetime\n",
    "print(client.hello())\n",
    "hist_cdls = client.get_historical_candles(0, 0, \n",
    "                                          int(round(datetime.timestamp(datetime.fromisoformat('2022-05-01'))*1000)),\n",
    "                                          int(round(datetime.timestamp(datetime.fromisoformat('2022-05-08'))*1000)))\n",
    "print(hist_cdls)"
   ]
  },
  {
   "cell_type": "code",
   "execution_count": 5,
   "id": "10bdc679",
   "metadata": {},
   "outputs": [
    {
     "name": "stdout",
     "output_type": "stream",
     "text": [
      "              time            open            high             low  \\\n",
      "0    1651363200000  37630.80000000  37806.79000000  37500.00000000   \n",
      "1    1651366800000  37680.66000000  38077.10000000  37386.38000000   \n",
      "2    1651370400000  37937.07000000  38053.68000000  37771.81000000   \n",
      "3    1651374000000  37817.78000000  38064.39000000  37801.52000000   \n",
      "4    1651377600000  38041.44000000  38063.41000000  37885.30000000   \n",
      "..             ...             ...             ...             ...   \n",
      "164  1651953600000  35876.37000000  35876.37000000  35752.35000000   \n",
      "165  1651957200000  35785.69000000  35820.91000000  35000.00000000   \n",
      "166  1651960800000  35026.37000000  35328.47000000  34785.00000000   \n",
      "167  1651964400000  35046.07000000  35769.69000000  35015.53000000   \n",
      "168  1651968000000  35472.40000000  35514.22000000  35071.97000000   \n",
      "\n",
      "              close         volume  \n",
      "0    37680.67000000  2313.83572000  \n",
      "1    37937.07000000  2622.65157000  \n",
      "2    37817.79000000  1081.24561000  \n",
      "3    38041.44000000   966.53850000  \n",
      "4    37948.39000000  1405.77554000  \n",
      "..              ...            ...  \n",
      "164  35785.69000000  1780.79166000  \n",
      "165  35026.37000000  4828.39846000  \n",
      "166  35046.06000000  5308.12687000  \n",
      "167  35472.39000000  4112.00262000  \n",
      "168  35107.02000000  2609.76893000  \n",
      "\n",
      "[169 rows x 6 columns]\n"
     ]
    }
   ],
   "source": [
    "data = pd.DataFrame(hist_cdls)\n",
    "print(data)"
   ]
  },
  {
   "cell_type": "code",
   "execution_count": 6,
   "id": "d76b00a1",
   "metadata": {},
   "outputs": [
    {
     "name": "stderr",
     "output_type": "stream",
     "text": [
      "/opt/bitnami/jupyterhub-singleuser/.local/lib/python3.7/site-packages/mpl_finance.py:22: DeprecationWarning: \n",
      "\n",
      "  =================================================================\n",
      "\n",
      "   WARNING: `mpl_finance` is deprecated:\n",
      "\n",
      "    Please use `mplfinance` instead (no hyphen, no underscore).\n",
      "\n",
      "    To install: `pip install --upgrade mplfinance` \n",
      "\n",
      "   For more information, see: https://pypi.org/project/mplfinance/\n",
      "\n",
      "  =================================================================\n",
      "\n",
      "  category=DeprecationWarning)\n"
     ]
    }
   ],
   "source": [
    "import matplotlib.pyplot as plt\n",
    "from mpl_finance import candlestick_ohlc\n",
    "import matplotlib.dates as mpl_dates"
   ]
  },
  {
   "cell_type": "code",
   "execution_count": 7,
   "id": "a2249fa2",
   "metadata": {},
   "outputs": [],
   "source": [
    "plt.style.use('ggplot')\n",
    "ohlc = data.loc[:, ['time', 'open', 'high', 'low', 'close']]\n",
    "ohlc['time'] = pd.to_datetime(ohlc['time'])\n",
    "#ohlc['time'] = ohlc['time'].apply(mpl_dates.date2num)\n",
    "#ohlc = ohlc.astype(float)"
   ]
  },
  {
   "cell_type": "code",
   "execution_count": 8,
   "id": "fca3f753",
   "metadata": {},
   "outputs": [
    {
     "ename": "TypeError",
     "evalue": "unsupported operand type(s) for -: 'str' and 'str'",
     "output_type": "error",
     "traceback": [
      "\u001b[0;31m---------------------------------------------------------------------------\u001b[0m",
      "\u001b[0;31mTypeError\u001b[0m                                 Traceback (most recent call last)",
      "\u001b[0;32m/tmp/ipykernel_76/590045005.py\u001b[0m in \u001b[0;36m<module>\u001b[0;34m\u001b[0m\n\u001b[1;32m      1\u001b[0m \u001b[0mfig\u001b[0m\u001b[0;34m,\u001b[0m \u001b[0max\u001b[0m \u001b[0;34m=\u001b[0m \u001b[0mplt\u001b[0m\u001b[0;34m.\u001b[0m\u001b[0msubplots\u001b[0m\u001b[0;34m(\u001b[0m\u001b[0;34m)\u001b[0m\u001b[0;34m\u001b[0m\u001b[0;34m\u001b[0m\u001b[0m\n\u001b[1;32m      2\u001b[0m \u001b[0;34m\u001b[0m\u001b[0m\n\u001b[0;32m----> 3\u001b[0;31m \u001b[0mcandlestick_ohlc\u001b[0m\u001b[0;34m(\u001b[0m\u001b[0max\u001b[0m\u001b[0;34m,\u001b[0m \u001b[0mohlc\u001b[0m\u001b[0;34m.\u001b[0m\u001b[0mvalues\u001b[0m\u001b[0;34m,\u001b[0m \u001b[0mwidth\u001b[0m\u001b[0;34m=\u001b[0m\u001b[0;36m0.6\u001b[0m\u001b[0;34m,\u001b[0m \u001b[0mcolorup\u001b[0m\u001b[0;34m=\u001b[0m\u001b[0;34m'green'\u001b[0m\u001b[0;34m,\u001b[0m \u001b[0mcolordown\u001b[0m\u001b[0;34m=\u001b[0m\u001b[0;34m'red'\u001b[0m\u001b[0;34m,\u001b[0m \u001b[0malpha\u001b[0m\u001b[0;34m=\u001b[0m\u001b[0;36m0.8\u001b[0m\u001b[0;34m)\u001b[0m\u001b[0;34m\u001b[0m\u001b[0;34m\u001b[0m\u001b[0m\n\u001b[0m\u001b[1;32m      4\u001b[0m \u001b[0;34m\u001b[0m\u001b[0m\n\u001b[1;32m      5\u001b[0m \u001b[0;31m# Setting labels & titles\u001b[0m\u001b[0;34m\u001b[0m\u001b[0;34m\u001b[0m\u001b[0;34m\u001b[0m\u001b[0m\n",
      "\u001b[0;32m~/.local/lib/python3.7/site-packages/mpl_finance.py\u001b[0m in \u001b[0;36mcandlestick_ohlc\u001b[0;34m(ax, quotes, width, colorup, colordown, alpha)\u001b[0m\n\u001b[1;32m    249\u001b[0m     return _candlestick(ax, quotes, width=width, colorup=colorup,\n\u001b[1;32m    250\u001b[0m                         \u001b[0mcolordown\u001b[0m\u001b[0;34m=\u001b[0m\u001b[0mcolordown\u001b[0m\u001b[0;34m,\u001b[0m\u001b[0;34m\u001b[0m\u001b[0;34m\u001b[0m\u001b[0m\n\u001b[0;32m--> 251\u001b[0;31m                         alpha=alpha, ochl=False)\n\u001b[0m\u001b[1;32m    252\u001b[0m \u001b[0;34m\u001b[0m\u001b[0m\n\u001b[1;32m    253\u001b[0m \u001b[0;34m\u001b[0m\u001b[0m\n",
      "\u001b[0;32m~/.local/lib/python3.7/site-packages/mpl_finance.py\u001b[0m in \u001b[0;36m_candlestick\u001b[0;34m(ax, quotes, width, colorup, colordown, alpha, ochl)\u001b[0m\n\u001b[1;32m    301\u001b[0m             \u001b[0mcolor\u001b[0m \u001b[0;34m=\u001b[0m \u001b[0mcolorup\u001b[0m\u001b[0;34m\u001b[0m\u001b[0;34m\u001b[0m\u001b[0m\n\u001b[1;32m    302\u001b[0m             \u001b[0mlower\u001b[0m \u001b[0;34m=\u001b[0m \u001b[0mopen\u001b[0m\u001b[0;34m\u001b[0m\u001b[0;34m\u001b[0m\u001b[0m\n\u001b[0;32m--> 303\u001b[0;31m             \u001b[0mheight\u001b[0m \u001b[0;34m=\u001b[0m \u001b[0mclose\u001b[0m \u001b[0;34m-\u001b[0m \u001b[0mopen\u001b[0m\u001b[0;34m\u001b[0m\u001b[0;34m\u001b[0m\u001b[0m\n\u001b[0m\u001b[1;32m    304\u001b[0m         \u001b[0;32melse\u001b[0m\u001b[0;34m:\u001b[0m\u001b[0;34m\u001b[0m\u001b[0;34m\u001b[0m\u001b[0m\n\u001b[1;32m    305\u001b[0m             \u001b[0mcolor\u001b[0m \u001b[0;34m=\u001b[0m \u001b[0mcolordown\u001b[0m\u001b[0;34m\u001b[0m\u001b[0;34m\u001b[0m\u001b[0m\n",
      "\u001b[0;31mTypeError\u001b[0m: unsupported operand type(s) for -: 'str' and 'str'"
     ]
    },
    {
     "data": {
      "image/png": "[encoded data removed]",
      "text/plain": [
       "<Figure size 432x288 with 1 Axes>"
      ]
     },
     "metadata": {
      "needs_background": "light"
     },
     "output_type": "display_data"
    }
   ],
   "source": [
    "fig, ax = plt.subplots()\n",
    "\n",
    "candlestick_ohlc(ax, ohlc.values, width=0.6, colorup='green', colordown='red', alpha=0.8)\n",
    "\n",
    "# Setting labels & titles\n",
    "ax.set_xlabel('Date')\n",
    "ax.set_ylabel('Price')\n",
    "fig.suptitle('Candlestick Chart')\n",
    "\n",
    "# Formatting Date\n",
    "date_format = mpl_dates.DateFormatter('%d-%m-%Y')\n",
    "ax.xaxis.set_major_formatter(date_format)\n",
    "fig.autofmt_xdate()\n",
    "\n",
    "fig.tight_layout()\n",
    "\n",
    "plt.show()"
   ]
  },
  {
   "cell_type": "code",
   "execution_count": null,
   "id": "eadc5cf2",
   "metadata": {},
   "outputs": [],
   "source": []
  }
 ],
 "metadata": {
  "kernelspec": {
   "display_name": "Python 3 (ipykernel)",
   "language": "python",
   "name": "python3"
  },
  "language_info": {
   "codemirror_mode": {
    "name": "ipython",
    "version": 3
   },
   "file_extension": ".py",
   "mimetype": "text/x-python",
   "name": "python",
   "nbconvert_exporter": "python",
   "pygments_lexer": "ipython3",
   "version": "3.7.13"
  }
 },
 "nbformat": 4,
 "nbformat_minor": 5
}
