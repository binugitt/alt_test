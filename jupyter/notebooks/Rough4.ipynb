{
 "cells": [
  {
   "cell_type": "code",
   "execution_count": 1,
   "id": "8a7ac7a7",
   "metadata": {},
   "outputs": [],
   "source": [
    "import requests\n"
   ]
  },
  {
   "cell_type": "code",
   "execution_count": 2,
   "id": "86a6ac13",
   "metadata": {},
   "outputs": [
    {
     "name": "stdout",
     "output_type": "stream",
     "text": [
      "{'lastUpdateId': 19774808109, 'bids': [['31329.67000000', '0.62729000'], ['31329.63000000', '0.00319000'], ['31329.45000000', '0.00252000'], ['31329.34000000', '0.01600000'], ['31329.24000000', '0.10063000'], ['31329.19000000', '1.04343000'], ['31329.14000000', '0.00062000'], ['31329.13000000', '0.00825000'], ['31329.04000000', '0.00055000'], ['31328.87000000', '0.00150000']], 'asks': [['31329.68000000', '3.63514000'], ['31329.70000000', '0.01647000'], ['31329.72000000', '0.09804000'], ['31329.88000000', '1.13268000'], ['31330.08000000', '0.38300000'], ['31330.20000000', '1.16388000'], ['31330.48000000', '0.01150000'], ['31330.53000000', '0.00750000'], ['31330.90000000', '0.15955000'], ['31331.21000000', '0.06654000']]}\n"
     ]
    }
   ],
   "source": [
    "data = requests.get(\"https://api.binance.com/api/v3/depth?limit=10&symbol=BTCUSDT\").json()\n",
    "print(data)"
   ]
  },
  {
   "cell_type": "code",
   "execution_count": 5,
   "id": "deb06102",
   "metadata": {},
   "outputs": [
    {
     "name": "stderr",
     "output_type": "stream",
     "text": [
      "  % Total    % Received % Xferd  Average Speed   Time    Time     Time  Current\n",
      "                                 Dload  Upload   Total   Spent    Left  Speed\n",
      "100   708    0   708    0     0    671      0 --:--:--  0:00:01 --:--:--   670\n"
     ]
    },
    {
     "name": "stdout",
     "output_type": "stream",
     "text": [
      "{\"success\":true,\"result\":{\"bids\":[[31306.0,2.7035],[31304.0,0.3582],[31303.0,0.411],[31302.0,0.158],[31300.0,0.356],[31299.0,0.032],[31298.0,0.158],[31296.0,0.1535],[31294.0,0.158],[31290.0,1.658],[31289.0,0.0108],[31286.0,0.158],[31285.0,0.1793],[31282.0,0.158],[31280.0,0.0002],[31278.0,0.3206],[31277.0,9.6722],[31275.0,0.048],[31272.0,0.8478],[31269.0,0.3221]],\"asks\":[[31307.0,0.395],[31308.0,0.3453],[31309.0,0.395],[31310.0,0.5049],[31311.0,2.7385],[31312.0,0.3428],[31315.0,0.2556],[31316.0,0.158],[31320.0,0.3979],[31321.0,0.1793],[31324.0,2.1444],[31325.0,0.158],[31326.0,0.1755],[31329.0,0.158],[31330.0,7.3127],[31332.0,0.0041],[31333.0,0.158],[31337.0,0.158],[31339.0,0.1755],[31344.0,0.158]]}}\n",
      "\n",
      "405\n",
      "b'<!DOCTYPE HTML PUBLIC \"-//W3C//DTD HTML 3.2 Final//EN\">\\n<title>405 Method Not Allowed</title>\\n<h1>Method Not Allowed</h1>\\n<p>The method is not allowed for the requested URL.</p>\\n'\n",
      "{'Date': 'Mon, 06 Jun 2022 23:56:31 GMT', 'Content-Type': 'text/html', 'Transfer-Encoding': 'chunked', 'Connection': 'keep-alive', 'Allow': 'OPTIONS, GET, HEAD', 'Vary': 'Origin, Origin', 'CF-Cache-Status': 'DYNAMIC', 'Expect-CT': 'max-age=604800, report-uri=\"https://report-uri.cloudflare.com/cdn-cgi/beacon/expect-ct\"', 'Strict-Transport-Security': 'max-age=31536000; includeSubDomains; preload', 'X-Content-Type-Options': 'nosniff', 'Server': 'cloudflare', 'CF-RAY': '717515c6484d4cd7-SIN', 'alt-svc': 'h3=\":443\"; ma=86400, h3-29=\":443\"; ma=86400'}\n",
      "<Response [405]>\n"
     ]
    }
   ],
   "source": [
    "import os\n",
    "result = os.popen(\"curl https://ftx.us/api/markets/BTC/USD/orderbook?depth=20\").read()\n",
    "print (result)\n",
    "\n",
    "\n",
    "try:\n",
    "    #data = requests.get(\"https://ftx.us/api/markets/BTC/USD/orderbook?depth=20\")\n",
    "    #print(data)\n",
    "    #print(data.text)\n",
    "    #r = requests.post(\"https://ftx.us/api/markets/BTC/USD/orderbook?depth=20\", allow_redirects=True,  headers={'User-Agent':'test'})\n",
    "    #r = requests.post(\"https://ftx.us/api/markets/BTC/USD/orderbook?depth=20\", headers={'User-Agent':'test'})\n",
    "    r = requests.post(\"https://ftx.us/api/markets/BTC/USD/orderbook?depth=20\")\n",
    "    print(r.status_code)\n",
    "    print(r.content)\n",
    "    print(r.headers)\n",
    "    print(r)\n",
    "except:\n",
    "    print(\"error\")"
   ]
  },
  {
   "cell_type": "code",
   "execution_count": null,
   "id": "f42773db",
   "metadata": {},
   "outputs": [],
   "source": []
  }
 ],
 "metadata": {
  "kernelspec": {
   "display_name": "Python 3 (ipykernel)",
   "language": "python",
   "name": "python3"
  },
  "language_info": {
   "codemirror_mode": {
    "name": "ipython",
    "version": 3
   },
   "file_extension": ".py",
   "mimetype": "text/x-python",
   "name": "python",
   "nbconvert_exporter": "python",
   "pygments_lexer": "ipython3",
   "version": "3.7.13"
  }
 },
 "nbformat": 4,
 "nbformat_minor": 5
}
